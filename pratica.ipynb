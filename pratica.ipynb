{
 "cells": [
  {
   "cell_type": "markdown",
   "id": "c870887f",
   "metadata": {},
   "source": [
    "-------------------------------------------\n",
    "# Titanic Challenge - Esqueleto do Notebook\n",
    "-------------------------------------------\n"
   ]
  },
  {
   "cell_type": "markdown",
   "id": "197fefb9",
   "metadata": {},
   "source": [
    "## 📘 Seção 1 - Importando bibliotecas\n",
    "## Aqui você deve importar todas as bibliotecas necessárias (pandas, numpy, matplotlib, seaborn, sklearn...)"
   ]
  },
  {
   "cell_type": "code",
   "execution_count": 3,
   "id": "171e5395",
   "metadata": {},
   "outputs": [],
   "source": [
    "import pandas as pd\n",
    "import numpy as np"
   ]
  },
  {
   "cell_type": "markdown",
   "id": "e53faa66",
   "metadata": {},
   "source": [
    "-------------------------------------------\n",
    "## Seção 2 - Carregando os dados\n",
    "-------------------------------------------\n",
    "\n",
    "### O Kaggle fornece dois arquivos: train.csv (com rótulos) e test.csv (sem rótulos).\n",
    "### Vamos carregar os arquivos usando pandas.\n"
   ]
  },
  {
   "cell_type": "code",
   "execution_count": null,
   "id": "0cb15327",
   "metadata": {},
   "outputs": [],
   "source": [
    "## carregue o arquivo train.csv com pandas e coloque em um dataframe"
   ]
  },
  {
   "cell_type": "markdown",
   "id": "fceb03a0",
   "metadata": {},
   "source": [
    "-------------------------------------------\n",
    "## Seção 3 - Entendendo os dados\n",
    "-------------------------------------------\n",
    "\n",
    "### É de extrema importância conhecer os dados com os quais trabalhamos. Assim, realize uma exploração"
   ]
  },
  {
   "cell_type": "code",
   "execution_count": 5,
   "id": "392621a7",
   "metadata": {},
   "outputs": [],
   "source": [
    "\n",
    "# Use os métodos do pandas para investigar:\n",
    "# - .shape   -> tamanho do dataset\n",
    "# - .info()  -> tipos de dados\n",
    "# - .describe() -> estatísticas descritivas\n",
    "# - .value_counts() para variáveis categóricas (ex: Sex, Embarked)\n",
    "# Tente responder:\n",
    "# Quantos passageiros sobreviveram? Qual a proporção?\n",
    "# Qual a distribuição de classes (Pclass)?"
   ]
  },
  {
   "cell_type": "markdown",
   "id": "43be0646",
   "metadata": {},
   "source": [
    "-------------------------------------------\n",
    "## Seção 4 - Limpeza e preparação dos dados\n",
    "-------------------------------------------"
   ]
  },
  {
   "cell_type": "code",
   "execution_count": 6,
   "id": "87db9c31",
   "metadata": {},
   "outputs": [],
   "source": [
    "# Questões comuns:\n",
    "# - Existem valores ausentes? (.isnull().sum())\n",
    "# - Como tratar valores faltantes em Age, Cabin, Embarked?\n",
    "# - Como transformar variáveis categóricas (Sex, Embarked) em numéricas? (get_dummies, map, LabelEncoder, etc.)\n",
    "\n",
    "# Exemplo:\n",
    "# train_df['Sex'] = train_df['Sex'].map({'male': 0, 'female': 1})"
   ]
  },
  {
   "cell_type": "markdown",
   "id": "4c000a10",
   "metadata": {},
   "source": [
    "-------------------------------------------\n",
    "##  Seção 5 - Análise exploratória\n",
    "-------------------------------------------"
   ]
  },
  {
   "cell_type": "code",
   "execution_count": 7,
   "id": "42edded6",
   "metadata": {},
   "outputs": [],
   "source": [
    "\n",
    "# Use gráficos para responder perguntas interessantes:\n",
    "# - Homens e mulheres tiveram taxas de sobrevivência diferentes?\n",
    "# - Passageiros de classes diferentes (Pclass) tiveram chances maiores?\n",
    "# - A idade influenciou na sobrevivência?"
   ]
  },
  {
   "cell_type": "markdown",
   "id": "c5b20ee2",
   "metadata": {},
   "source": [
    "-------------------------------------------\n",
    "## Seção 6 - Seleção de features\n",
    "-------------------------------------------"
   ]
  },
  {
   "cell_type": "code",
   "execution_count": 8,
   "id": "dd107bc6",
   "metadata": {},
   "outputs": [],
   "source": [
    "\n",
    "# Escolha quais colunas vão entrar no modelo.\n",
    "# Sugestão FORTE: procure sobre ferramentas que vão te permitir analisar quais \n",
    "# features (colunas) mais influenciam a sua coluna target (target = coluna que fala se sobreviveu ou não)\n",
    "# a partir disso, selecione, por exemplo, as top 3 ou 5 features que mais influenciam\n",
    "\n",
    "## Deixo um spoiler aqui: O resultado que você deve encontrar é que questões ed gênero influenciaram\n",
    "## consideravelmente mais a sobrevivência do que classe. Isso ocorreu por conta do famoso \n",
    "## \"mulheres e crianças\" primeiro na corrida para os botes do navio, o que fez com que muitas mulheres\n",
    "## mesmo que de classe mais baixa sobrevivessem enquanto homens de classe alta ficassem para morrer. "
   ]
  },
  {
   "cell_type": "markdown",
   "id": "0332dafa",
   "metadata": {},
   "source": [
    "-------------------------------------------\n",
    "## Seção 7 - Dividindo treino e validação\n",
    "-------------------------------------------"
   ]
  },
  {
   "cell_type": "code",
   "execution_count": 9,
   "id": "8028443f",
   "metadata": {},
   "outputs": [],
   "source": [
    "# Divida o train_df em treino e validação para checar a qualidade do modelo antes de aplicar no teste real.\n",
    "# recomendo usar train_test_split -> se não me engano você importa com o scikit-learn"
   ]
  },
  {
   "cell_type": "markdown",
   "id": "035c7c58",
   "metadata": {},
   "source": [
    "-------------------------------------------\n",
    "## Seção 8 - Treinamento do modelo\n",
    "-------------------------------------------"
   ]
  },
  {
   "cell_type": "code",
   "execution_count": 10,
   "id": "a783b71b",
   "metadata": {},
   "outputs": [],
   "source": [
    "\n",
    "# 1. Padronizar os dados (opcional, mas recomendado para alguns modelos)\n",
    "## Com padronizar, quero dizer colocar os valores na mesma escala. Use, por exemplo, um StandardScaler ou faça a normalização na mão\n",
    "\n",
    "# 2. Escolher e treinar um modelo (exemplo: LogisticRegression)\n",
    "## model = importe um modelo de classificação do scikit-learn\n",
    "## model.fit()\n",
    "## Veja como o modelo funcione, procure documentação\n",
    "\n",
    "# 3. Fazer previsões\n",
    "# y_pred = model.predict(X_val_scaled)"
   ]
  },
  {
   "cell_type": "markdown",
   "id": "85d65f74",
   "metadata": {},
   "source": [
    "-------------------------------------------\n",
    "## Seção 9 - Avaliação do modelo\n",
    "-------------------------------------------"
   ]
  },
  {
   "cell_type": "code",
   "execution_count": 11,
   "id": "62070f40",
   "metadata": {},
   "outputs": [],
   "source": [
    "# Avalie o desempenho usando:\n",
    "# - Acurácia\n",
    "# - Matriz de confusão\n",
    "# - Relatório de classificação\n",
    "\n",
    "## Procure na documentação do modelo/scikit-learn como obter essas métricas do seu modelo"
   ]
  },
  {
   "cell_type": "markdown",
   "id": "2f5233f7",
   "metadata": {},
   "source": [
    "-------------------------------------------\n",
    "## Seção 10 - Previsão no dataset de Teste\n",
    "-------------------------------------------\n",
    "\n",
    "#### Se quiser se preparar para a ponderada desafio desse módulo, recomendo aplicar o seu modelo no arquivo test.csv e submetê-lo no kaggle"
   ]
  },
  {
   "cell_type": "code",
   "execution_count": 12,
   "id": "3ddfcaeb",
   "metadata": {},
   "outputs": [],
   "source": [
    "\n",
    "# Quando estiver satisfeito com o modelo, repita o pré-processamento no test.csv\n",
    "# e gere as previsões que serão submetidas no Kaggle.\n",
    "\n",
    "# Lembre-se: o test.csv não tem a coluna 'Survived', você só vai gerar previsões.\n",
    "## OU SEJA: você vai fazer as previsões com o modelo que você criou e então CRIAR essa \n",
    "## coluna survived. Ao enviar isso para o kaggle, eles vão avaliar quantas previsões\n",
    "## você/seu modelo acertou e quantas errou.\n",
    "\n",
    "# test_pred = model.predict(test_df_preparado) ## passe o seu csv de test pelo exato mesmo processamento\n",
    "\n",
    "# submission = pd.DataFrame({\n",
    "#     \"PassengerId\": test_df[\"PassengerId\"],\n",
    "#     \"Survived\": test_pred\n",
    "# })\n",
    "\n",
    "# submission.to_csv(\"submission.csv\", index=False)\n",
    "\n",
    "## Envie esse csv pro kaggle no link: https://www.kaggle.com/c/titanic\n",
    "\n",
    "## Bônus: Quem submeter isso no kaggle e enviar um print para o monitor mostrando o resultado E tiver o maior resultado vai receber uma caixa de bis/barra de chocolate\n",
    "## Tem que me enviar no slack!!!"
   ]
  }
 ],
 "metadata": {
  "kernelspec": {
   "display_name": "Python (PyCaret 3.10)",
   "language": "python",
   "name": "pycaret310"
  },
  "language_info": {
   "codemirror_mode": {
    "name": "ipython",
    "version": 3
   },
   "file_extension": ".py",
   "mimetype": "text/x-python",
   "name": "python",
   "nbconvert_exporter": "python",
   "pygments_lexer": "ipython3",
   "version": "3.10.14"
  }
 },
 "nbformat": 4,
 "nbformat_minor": 5
}
